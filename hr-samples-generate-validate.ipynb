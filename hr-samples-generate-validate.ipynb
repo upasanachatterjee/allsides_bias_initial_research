{
 "cells": [
  {
   "cell_type": "code",
   "execution_count": 1,
   "metadata": {},
   "outputs": [
    {
     "name": "stderr",
     "output_type": "stream",
     "text": [
      "/Users/upasana/code/playground/bias-initial-splits/.venv/lib/python3.12/site-packages/tqdm/auto.py:21: TqdmWarning: IProgress not found. Please update jupyter and ipywidgets. See https://ipywidgets.readthedocs.io/en/stable/user_install.html\n",
      "  from .autonotebook import tqdm as notebook_tqdm\n"
     ]
    }
   ],
   "source": [
    "from huggingface_hub import login\n",
    "\n",
    "# Paste your HF token inside the quotes\n",
    "login(os.getenv("hf_token"))"
   ]
  },
  {
   "cell_type": "code",
   "execution_count": 2,
   "metadata": {},
   "outputs": [
    {
     "name": "stderr",
     "output_type": "stream",
     "text": [
      "/Users/upasana/code/playground/bias-initial-splits/.venv/lib/python3.12/site-packages/tqdm/auto.py:21: TqdmWarning: IProgress not found. Please update jupyter and ipywidgets. See https://ipywidgets.readthedocs.io/en/stable/user_install.html\n",
      "  from .autonotebook import tqdm as notebook_tqdm\n"
     ]
    }
   ],
   "source": [
    "from datasets import load_dataset"
   ]
  },
  {
   "cell_type": "code",
   "execution_count": 3,
   "metadata": {},
   "outputs": [
    {
     "name": "stderr",
     "output_type": "stream",
     "text": [
      "Generating train split: 100%|██████████| 47876/47876 [00:00<00:00, 119486.50 examples/s]\n"
     ]
    }
   ],
   "source": [
    "ds = load_dataset(\"dragonslayer631/allsides\")"
   ]
  },
  {
   "cell_type": "code",
   "execution_count": 4,
   "metadata": {},
   "outputs": [
    {
     "name": "stdout",
     "output_type": "stream",
     "text": [
      "372\n"
     ]
    }
   ],
   "source": [
    "from collections import defaultdict\n",
    "\n",
    "# Dictionary to hold filtered data per topic\n",
    "filtered_data = []\n",
    "\n",
    "# Group data by topic\n",
    "topic_groups = defaultdict(list)\n",
    "\n",
    "for item in ds[\"train\"]:\n",
    "    topic_groups[item['topic']].append(item)\n",
    "\n",
    "# For each topic, keep 3 examples with unique biases\n",
    "for topic, items in topic_groups.items():\n",
    "    seen_biases = set()\n",
    "    selected = []\n",
    "\n",
    "    for item in items:\n",
    "        if item['bias'] not in seen_biases:\n",
    "            selected.append(item)\n",
    "            seen_biases.add(item['bias'])\n",
    "        if len(selected) == 3:\n",
    "            break\n",
    "\n",
    "    if len(selected) == 3:\n",
    "        filtered_data.extend(selected)\n",
    "\n",
    "# Optional: inspect\n",
    "print(len(filtered_data))"
   ]
  },
  {
   "cell_type": "code",
   "execution_count": 5,
   "metadata": {},
   "outputs": [],
   "source": [
    "from datasets import Dataset\n",
    "\n",
    "filtered_dataset = Dataset.from_list(filtered_data)"
   ]
  },
  {
   "cell_type": "code",
   "execution_count": 6,
   "metadata": {},
   "outputs": [
    {
     "name": "stderr",
     "output_type": "stream",
     "text": [
      "Creating json from Arrow format: 100%|██████████| 1/1 [00:00<00:00, 46.38ba/s]\n"
     ]
    },
    {
     "data": {
      "text/plain": [
       "2314083"
      ]
     },
     "execution_count": 6,
     "metadata": {},
     "output_type": "execute_result"
    }
   ],
   "source": [
    "filtered_dataset.to_json(\"hr_test_with_sol.jsonl\")"
   ]
  },
  {
   "cell_type": "code",
   "execution_count": 7,
   "metadata": {},
   "outputs": [
    {
     "name": "stderr",
     "output_type": "stream",
     "text": [
      "Creating CSV from Arrow format: 100%|██████████| 1/1 [00:00<00:00, 24.04ba/s]\n"
     ]
    },
    {
     "data": {
      "text/plain": [
       "2140297"
      ]
     },
     "execution_count": 7,
     "metadata": {},
     "output_type": "execute_result"
    }
   ],
   "source": [
    "filtered_dataset.select_columns([\"id\", \"text\"]).to_csv(\"test_for_me.csv\")"
   ]
  },
  {
   "cell_type": "code",
   "execution_count": 2,
   "metadata": {},
   "outputs": [
    {
     "data": {
      "text/plain": [
       "(372, 2)"
      ]
     },
     "execution_count": 2,
     "metadata": {},
     "output_type": "execute_result"
    }
   ],
   "source": [
    "import pandas as pd\n",
    "\n",
    "df = pd.read_csv(\"test_for_me.csv\")\n",
    "\n",
    "df.shape"
   ]
  },
  {
   "cell_type": "code",
   "execution_count": 18,
   "metadata": {},
   "outputs": [],
   "source": [
    "import pandas as pd\n",
    "\n",
    "# df = pd.read_csv(\"test_for_me_upasana.csv\")\n",
    "\n",
    "\n",
    "df = pd.read_json('test_for_me_gpt.jsonl', lines=True)\n",
    "df = df.set_index(\"id\")"
   ]
  },
  {
   "cell_type": "code",
   "execution_count": null,
   "metadata": {},
   "outputs": [],
   "source": [
    "from datasets import Dataset\n",
    "import pandas as pd\n",
    "\n",
    "df = pd.read_csv(\"test_for_me_upasana.csv\")\n",
    "\n",
    "\n",
    "df = df[df[\"predicted_bias\"].notnull()].drop(\"text\", axis=1).set_index(\"id\")"
   ]
  },
  {
   "cell_type": "code",
   "execution_count": 19,
   "metadata": {},
   "outputs": [],
   "source": [
    "from datasets import load_dataset\n",
    "\n",
    "ds = load_dataset(\"json\", data_files=\"hr_test_with_sol.jsonl\")"
   ]
  },
  {
   "cell_type": "code",
   "execution_count": 20,
   "metadata": {},
   "outputs": [],
   "source": [
    "df2 = ds[\"train\"].to_pandas().set_index(\"id\")\n",
    "df2 = df2[[\"int_bias\"]]\n"
   ]
  },
  {
   "cell_type": "code",
   "execution_count": 21,
   "metadata": {},
   "outputs": [],
   "source": [
    "joined = df2.join(df, on=\"id\", how=\"inner\")"
   ]
  },
  {
   "cell_type": "code",
   "execution_count": 22,
   "metadata": {},
   "outputs": [],
   "source": [
    "joined.predicted_bias = joined.predicted_bias.astype(int)"
   ]
  },
  {
   "cell_type": "code",
   "execution_count": 23,
   "metadata": {},
   "outputs": [
    {
     "data": {
      "text/plain": [
       "(372, 2)"
      ]
     },
     "execution_count": 23,
     "metadata": {},
     "output_type": "execute_result"
    }
   ],
   "source": [
    "joined.shape"
   ]
  },
  {
   "cell_type": "code",
   "execution_count": 24,
   "metadata": {},
   "outputs": [
    {
     "name": "stdout",
     "output_type": "stream",
     "text": [
      "total accuracy = 50.53763440860215\n",
      "left accuracy = 58.87096774193549\n",
      "center accuracy = 45.96774193548387\n",
      "right accuracy = 46.774193548387096\n",
      "predicted right for left  = 9.67741935483871\n",
      "predicted left for right  = 20.967741935483872\n"
     ]
    }
   ],
   "source": [
    "print(f\"total accuracy = {(joined[\"int_bias\"] == joined[\"predicted_bias\"]).mean() * 100}\")\n",
    "\n",
    "print(f\"left accuracy = {((joined[\"predicted_bias\"] == 0) & (joined[\"int_bias\"] == 0)).sum() / (joined[\"int_bias\"] == 0).sum() * 100}\")\n",
    "\n",
    "print(f\"center accuracy = {((joined[\"predicted_bias\"] == 1) & (joined[\"int_bias\"] == 1)).sum() / (joined[\"int_bias\"] == 1).sum() * 100}\")\n",
    "\n",
    "print(f\"right accuracy = {((joined[\"predicted_bias\"] == 2) & (joined[\"int_bias\"] == 2)).sum() / (joined[\"int_bias\"] ==2).sum() * 100}\")\n",
    "\n",
    "\n",
    "print(f\"predicted right for left  = {((joined[\"predicted_bias\"] == 2) & (joined[\"int_bias\"] == 0)).sum() / (joined[\"int_bias\"] ==0).sum() * 100}\")\n",
    "print(f\"predicted left for right  = {((joined[\"predicted_bias\"] == 0) & (joined[\"int_bias\"] == 2)).sum() / (joined[\"int_bias\"] ==2).sum() * 100}\")\n"
   ]
  }
 ],
 "metadata": {
  "kernelspec": {
   "display_name": ".venv",
   "language": "python",
   "name": "python3"
  },
  "language_info": {
   "codemirror_mode": {
    "name": "ipython",
    "version": 3
   },
   "file_extension": ".py",
   "mimetype": "text/x-python",
   "name": "python",
   "nbconvert_exporter": "python",
   "pygments_lexer": "ipython3",
   "version": "3.12.8"
  }
 },
 "nbformat": 4,
 "nbformat_minor": 2
}
