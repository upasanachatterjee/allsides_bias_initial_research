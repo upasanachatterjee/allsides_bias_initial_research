{
 "cells": [
  {
   "cell_type": "code",
   "execution_count": null,
   "metadata": {},
   "outputs": [],
   "source": [
    "from transformers import pipeline\n",
    "sentiment_pipeline = pipeline(\"sentiment-analysis\")\n",
    "\n",
    "from transformers import AutoTokenizer\n",
    "tokenizer = AutoTokenizer.from_pretrained(\"distilbert-base-uncased\")\n"
   ]
  },
  {
   "cell_type": "code",
   "execution_count": 31,
   "metadata": {},
   "outputs": [],
   "source": [
    "import time\n",
    "import csv\n",
    "import os\n",
    "import json\n",
    "import math"
   ]
  },
  {
   "cell_type": "code",
   "execution_count": 41,
   "metadata": {},
   "outputs": [],
   "source": [
    "directory = \"Article-Bias-Prediction/data/jsons\"\n",
    "topic = \"democratic_party\"\n",
    "\n",
    "all_topics = set()\n",
    "all_topics.add(topic)\n",
    "\n",
    "for filename in os.listdir(directory):\n",
    "    in_file = f\"{directory}/{filename}\"\n",
    "\n",
    "    file = None\n",
    "\n",
    "    with open(in_file, \"r\") as read_file:\n",
    "        file = json.load(read_file)\n",
    "        if file[\"topic\"] != topic:\n",
    "            continue\n",
    "        content = file[\"content\"]\n",
    "        chunks = []\n",
    "        for i in range(0, len(content), 512):\n",
    "            chunk = content[i: min(i + 512, len(content))]\n",
    "            chunks.append(chunk)\n",
    "        sentiment = sentiment_pipeline(chunks)\n",
    "        file[\"sentiment\"] = [s[\"label\"] for s in sentiment]\n",
    "        file[\"sentiment_score\"] = [s[\"score\"] for s in sentiment]\n",
    "\n",
    "    with open(f\"{topic}/{filename}\", \"w+\") as write_file:\n",
    "        json.dump(file, write_file)\n"
   ]
  },
  {
   "cell_type": "code",
   "execution_count": 43,
   "metadata": {},
   "outputs": [],
   "source": [
    "directory = \"democratic_party\"\n",
    "\n",
    "data = []\n",
    "\n",
    "for filename in os.listdir(directory):\n",
    "    in_file = f\"{directory}/{filename}\"\n",
    "\n",
    "    with open(in_file, \"r\", encoding='utf-8', errors='ignore') as read_file:\n",
    "        file = json.loads(read_file.read(), strict=False)\n",
    "        current_score = 0\n",
    "        sentiments = file[\"sentiment\"]\n",
    "        scores = file[\"sentiment_score\"]\n",
    "        for i in range(0, len(sentiments)):\n",
    "            sign = 1 if sentiments[i] == \"POSITIVE\" else -1\n",
    "            current_score += sign * scores[i]\n",
    "\n",
    "        current_score /= len(sentiments)\n",
    "        current_sentiment = \"POSITIVE\" if current_score > 0 else \"NEGATIVE\"\n",
    "\n",
    "        del file[\"content\"]\n",
    "        del file[\"content_original\"]\n",
    "        file[\"total_sentiment\"] = current_sentiment\n",
    "        file[\"total_sentiment_score\"] = current_score\n",
    "\n",
    "        data.append(file)\n",
    "\n",
    "out_file = f\"{directory}/summary.csv\"\n",
    "write_file = open(out_file, \"w\")\n",
    "writer = csv.writer(write_file)\n",
    "for i, dp in enumerate(data):\n",
    "    if i == 0:\n",
    "        writer.writerow(dp.keys())\n",
    "\n",
    "    writer.writerow(dp.values())\n",
    "\n",
    "write_file.close()\n",
    "        "
   ]
  },
  {
   "cell_type": "code",
   "execution_count": 48,
   "metadata": {},
   "outputs": [
    {
     "data": {
      "text/html": [
       "<div><style>\n",
       ".dataframe > thead > tr,\n",
       ".dataframe > tbody > tr {\n",
       "  text-align: right;\n",
       "  white-space: pre-wrap;\n",
       "}\n",
       "</style>\n",
       "<small>shape: (3, 3)</small><table border=\"1\" class=\"dataframe\"><thead><tr><th>bias_text</th><th>len</th><th>total_sentiment_score</th></tr><tr><td>str</td><td>u32</td><td>f64</td></tr></thead><tbody><tr><td>&quot;center&quot;</td><td>772</td><td>-0.427389</td></tr><tr><td>&quot;left&quot;</td><td>950</td><td>-0.403039</td></tr><tr><td>&quot;right&quot;</td><td>1071</td><td>-0.443822</td></tr></tbody></table></div>"
      ],
      "text/plain": [
       "shape: (3, 3)\n",
       "┌───────────┬──────┬───────────────────────┐\n",
       "│ bias_text ┆ len  ┆ total_sentiment_score │\n",
       "│ ---       ┆ ---  ┆ ---                   │\n",
       "│ str       ┆ u32  ┆ f64                   │\n",
       "╞═══════════╪══════╪═══════════════════════╡\n",
       "│ center    ┆ 772  ┆ -0.427389             │\n",
       "│ left      ┆ 950  ┆ -0.403039             │\n",
       "│ right     ┆ 1071 ┆ -0.443822             │\n",
       "└───────────┴──────┴───────────────────────┘"
      ]
     },
     "execution_count": 48,
     "metadata": {},
     "output_type": "execute_result"
    }
   ],
   "source": [
    "import polars as pl\n",
    "\n",
    "directory = \"politics\"\n",
    "\n",
    "df = pl.read_csv(f\"{directory}/summary.csv\")\n",
    "\n",
    "(df.group_by(\"bias_text\")\n",
    "    .agg(\n",
    "        pl.len(),\n",
    "        pl.mean(\"total_sentiment_score\")\n",
    "    )\n",
    ").sort(\"bias_text\")"
   ]
  },
  {
   "cell_type": "code",
   "execution_count": 51,
   "metadata": {},
   "outputs": [],
   "source": [
    "topics = [\"democratic_party\", \"food\", \"immigration\", \"politics\", \"republican_party\"]\n",
    "filepaths = [f\"{topic}/summary.csv\" for topic in topics]\n",
    "data = pl.scan_csv(filepaths, try_parse_dates=True).collect()\n",
    "df = pl.DataFrame(data)"
   ]
  },
  {
   "cell_type": "code",
   "execution_count": 65,
   "metadata": {},
   "outputs": [],
   "source": [
    "sources = df[\"source\"].value_counts(sort=True).filter(pl.col(\"count\") > 100)[\"source\"].to_list()"
   ]
  },
  {
   "cell_type": "code",
   "execution_count": 103,
   "metadata": {},
   "outputs": [
    {
     "data": {
      "text/html": [
       "<div><style>\n",
       ".dataframe > thead > tr,\n",
       ".dataframe > tbody > tr {\n",
       "  text-align: right;\n",
       "  white-space: pre-wrap;\n",
       "}\n",
       "</style>\n",
       "<small>shape: (6, 4)</small><table border=\"1\" class=\"dataframe\"><thead><tr><th>topic</th><th>bias_text</th><th>len</th><th>total_sentiment_score</th></tr><tr><td>str</td><td>str</td><td>u32</td><td>f64</td></tr></thead><tbody><tr><td>&quot;democratic_party&quot;</td><td>&quot;left&quot;</td><td>70</td><td>-0.159792</td></tr><tr><td>&quot;democratic_party&quot;</td><td>&quot;right&quot;</td><td>54</td><td>-0.457754</td></tr><tr><td>&quot;democratic_party&quot;</td><td>&quot;center&quot;</td><td>20</td><td>-0.258535</td></tr><tr><td>&quot;republican_party&quot;</td><td>&quot;center&quot;</td><td>69</td><td>-0.326017</td></tr><tr><td>&quot;republican_party&quot;</td><td>&quot;right&quot;</td><td>110</td><td>-0.375123</td></tr><tr><td>&quot;republican_party&quot;</td><td>&quot;left&quot;</td><td>218</td><td>-0.328608</td></tr></tbody></table></div>"
      ],
      "text/plain": [
       "shape: (6, 4)\n",
       "┌──────────────────┬───────────┬─────┬───────────────────────┐\n",
       "│ topic            ┆ bias_text ┆ len ┆ total_sentiment_score │\n",
       "│ ---              ┆ ---       ┆ --- ┆ ---                   │\n",
       "│ str              ┆ str       ┆ u32 ┆ f64                   │\n",
       "╞══════════════════╪═══════════╪═════╪═══════════════════════╡\n",
       "│ democratic_party ┆ left      ┆ 70  ┆ -0.159792             │\n",
       "│ democratic_party ┆ right     ┆ 54  ┆ -0.457754             │\n",
       "│ democratic_party ┆ center    ┆ 20  ┆ -0.258535             │\n",
       "│ republican_party ┆ center    ┆ 69  ┆ -0.326017             │\n",
       "│ republican_party ┆ right     ┆ 110 ┆ -0.375123             │\n",
       "│ republican_party ┆ left      ┆ 218 ┆ -0.328608             │\n",
       "└──────────────────┴───────────┴─────┴───────────────────────┘"
      ]
     },
     "execution_count": 103,
     "metadata": {},
     "output_type": "execute_result"
    }
   ],
   "source": [
    "filtered = df.filter(pl.col(\"source\").is_in(sources))\n",
    "\n",
    "pl.Config.set_tbl_rows(-1)\n",
    "\n",
    "res = filtered.group_by([\"topic\", \"bias_text\"]).agg(pl.len(), pl.mean(\"total_sentiment_score\")).sort(\"topic\").filter(pl.col(\"topic\").is_in([\"republican_party\", \"democratic_party\"]))\n",
    "res"
   ]
  },
  {
   "cell_type": "code",
   "execution_count": 104,
   "metadata": {},
   "outputs": [
    {
     "name": "stdout",
     "output_type": "stream",
     "text": [
      "\\begin{tabular}{llr}\n",
      "\\toprule\n",
      "topic & bias_text & total_sentiment_score \\\\\n",
      "\\midrule\n",
      "democratic_party & left & -0.159792 \\\\\n",
      "democratic_party & right & -0.457754 \\\\\n",
      "democratic_party & center & -0.258535 \\\\\n",
      "republican_party & center & -0.326017 \\\\\n",
      "republican_party & right & -0.375123 \\\\\n",
      "republican_party & left & -0.328608 \\\\\n",
      "\\bottomrule\n",
      "\\end{tabular}\n",
      "\n"
     ]
    }
   ],
   "source": [
    "import pandas as pd\n",
    "\n",
    "print(res.drop(\"len\").to_pandas().to_latex(index=False))"
   ]
  }
 ],
 "metadata": {
  "kernelspec": {
   "display_name": ".venv",
   "language": "python",
   "name": "python3"
  },
  "language_info": {
   "codemirror_mode": {
    "name": "ipython",
    "version": 3
   },
   "file_extension": ".py",
   "mimetype": "text/x-python",
   "name": "python",
   "nbconvert_exporter": "python",
   "pygments_lexer": "ipython3",
   "version": "3.10.8"
  }
 },
 "nbformat": 4,
 "nbformat_minor": 2
}
