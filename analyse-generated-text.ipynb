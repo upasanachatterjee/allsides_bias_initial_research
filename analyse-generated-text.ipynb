{
 "cells": [
  {
   "cell_type": "code",
   "execution_count": 2,
   "metadata": {},
   "outputs": [],
   "source": [
    "import polars as pl\n",
    "import glob\n",
    "\n",
    "\n",
    "def load_json_to_dataframe(json_folder_path):\n",
    "    json_files = glob.glob(\n",
    "        f\"{json_folder_path}/*.json\"\n",
    "    )  # Get all JSON files in the folder\n",
    "    df_list = [\n",
    "        pl.read_json(file) for file in json_files\n",
    "    ]  # Read each file into a DataFrame\n",
    "    combined_df = pl.concat(df_list, how=\"diagonal\")  # Concatenate all DataFrames\n",
    "    return combined_df"
   ]
  },
  {
   "cell_type": "code",
   "execution_count": 7,
   "metadata": {},
   "outputs": [
    {
     "name": "stdout",
     "output_type": "stream",
     "text": [
      "(227, 11)\n"
     ]
    }
   ],
   "source": [
    "df = load_json_to_dataframe(\"bert_generated_text/elections\")\n",
    "print(df.shape)"
   ]
  },
  {
   "cell_type": "code",
   "execution_count": 4,
   "metadata": {},
   "outputs": [],
   "source": [
    "# change the original bias from numerical to text to match llama\n",
    "\n",
    "df = df.with_columns(\n",
    "    pl.col(\"original_bias\")\n",
    "    .cast(pl.Utf8)  # Convert column to string\n",
    "    .replace({\"0\": \"left\", \"1\": \"center\", \"2\": \"right\"})\n",
    "    .alias(\"original_bias\")\n",
    ")"
   ]
  },
  {
   "cell_type": "code",
   "execution_count": 8,
   "metadata": {},
   "outputs": [
    {
     "name": "stdout",
     "output_type": "stream",
     "text": [
      "num rows =  227\n",
      "total accurate original bias tagging by llama =  0.5418502202643172\n",
      "accurate original bias tagging by llama for original value CENTER =  0.5166666666666667\n",
      "accurate original bias tagging by llama for original value LEFT =  0.4845360824742268\n",
      "accurate original bias tagging by llama for original value RIGHT =  0.6428571428571429\n"
     ]
    }
   ],
   "source": [
    "# how often does llama get bias tagging right? [comparing original bias to llama tagging the original text]\n",
    "\n",
    "total_rows = df.height\n",
    "print(\"num rows = \", total_rows)\n",
    "count_same_original = (df[\"original_bias\"] == df[\"llama_bias_with_sample\"]).sum()\n",
    "print(\n",
    "    f\"total accurate original bias tagging by llama = \",\n",
    "    count_same_original / total_rows,\n",
    ")\n",
    "\n",
    "# Count occurrences where both columns have the value \"center\"\n",
    "original_center = df.filter(pl.col(\"original_bias\") == 1).height\n",
    "count_center = df.filter(\n",
    "    (pl.col(\"original_bias\") == 1) & (pl.col(\"llama_bias_with_sample\") == 1)\n",
    ").height\n",
    "print(\n",
    "    f\"accurate original bias tagging by llama for original value CENTER = \",\n",
    "    count_center / original_center,\n",
    ")\n",
    "\n",
    "# Count occurrences where both columns have the value \"left\"\n",
    "original_left = df.filter(pl.col(\"original_bias\") == 0).height\n",
    "count_left = df.filter(\n",
    "    (pl.col(\"original_bias\") == 0) & (pl.col(\"llama_bias_with_sample\") == 0)\n",
    ").height\n",
    "print(\n",
    "    f\"accurate original bias tagging by llama for original value LEFT = \",\n",
    "    count_left / original_left,\n",
    ")\n",
    "\n",
    "# Count occurrences where both columns have the value \"right\"\n",
    "original_right = df.filter(pl.col(\"original_bias\") == 2).height\n",
    "count_right = df.filter(\n",
    "    (pl.col(\"original_bias\") == 2) & (pl.col(\"llama_bias_with_sample\") == 2)\n",
    ").height\n",
    "print(\n",
    "    f\"accurate original bias tagging by llama for original value RIGHT = \",\n",
    "    count_right / original_right,\n",
    ")"
   ]
  },
  {
   "cell_type": "code",
   "execution_count": 81,
   "metadata": {},
   "outputs": [
    {
     "name": "stdout",
     "output_type": "stream",
     "text": [
      "total match between original bias and generated llama text bias=  0.49901046084252193\n",
      "how often does generated llama text bias match original bias for original value CENTER =  0.577028258887876\n",
      "how often does generated llama text bias match original bias for original value LEFT =  0.529657477025898\n",
      "how often does generated llama text bias match original bias for original value RIGHT =  0.4006436041834272\n"
     ]
    }
   ],
   "source": [
    "# how often does the generated text's bias (calculated by llama) match the original (human annotated)\n",
    "\n",
    "total_rows = df.height\n",
    "count_same_original = (df[\"original_bias\"] == df[\"llama_generated_bias\"]).sum()\n",
    "print(\n",
    "    f\"total match between original bias and generated llama text bias= \",\n",
    "    count_same_original / total_rows,\n",
    ")\n",
    "\n",
    "# Count occurrences where both columns have the value \"center\"\n",
    "original_center = df.filter(pl.col(\"original_bias\") == \"center\").height\n",
    "count_center = df.filter(\n",
    "    (pl.col(\"original_bias\") == \"center\") & (pl.col(\"llama_generated_bias\") == \"center\")\n",
    ").height\n",
    "print(\n",
    "    f\"how often does generated llama text bias match original bias for original value CENTER = \",\n",
    "    count_center / original_center,\n",
    ")\n",
    "\n",
    "# Count occurrences where both columns have the value \"left\"\n",
    "original_left = df.filter(pl.col(\"original_bias\") == \"left\").height\n",
    "count_left = df.filter(\n",
    "    (pl.col(\"original_bias\") == \"left\") & (pl.col(\"llama_generated_bias\") == \"left\")\n",
    ").height\n",
    "print(\n",
    "    f\"how often does generated llama text bias match original bias for original value LEFT = \",\n",
    "    count_left / original_left,\n",
    ")\n",
    "\n",
    "# Count occurrences where both columns have the value \"right\"\n",
    "original_right = df.filter(pl.col(\"original_bias\") == \"right\").height\n",
    "count_right = df.filter(\n",
    "    (pl.col(\"original_bias\") == \"right\") & (pl.col(\"llama_generated_bias\") == \"right\")\n",
    ").height\n",
    "print(\n",
    "    f\"how often does generated llama text bias match original bias for original value RIGHT = \",\n",
    "    count_right / original_right,\n",
    ")"
   ]
  },
  {
   "cell_type": "code",
   "execution_count": 82,
   "metadata": {},
   "outputs": [
    {
     "name": "stdout",
     "output_type": "stream",
     "text": [
      "total match between original bias and generated llama text bias=  0.7537461125247384\n",
      "how often does generated llama text bias match llama original bias for original value CENTER =  0.8216098622189992\n",
      "how often does generated llama text bias match llama original bias for original value LEFT =  0.7821939586645469\n",
      "how often does generated llama text bias match llama original bias for original value RIGHT =  0.61\n"
     ]
    }
   ],
   "source": [
    "# how often does the generated text's bias (calculated by llama) match the original (llama generated)\n",
    "\n",
    "total_rows = df.height\n",
    "count_same_original = (df[\"llama_original_bias\"] == df[\"llama_generated_bias\"]).sum()\n",
    "print(\n",
    "    f\"total match between original bias and generated llama text bias= \",\n",
    "    count_same_original / total_rows,\n",
    ")\n",
    "\n",
    "# Count occurrences where both columns have the value \"center\"\n",
    "original_center = df.filter(pl.col(\"llama_original_bias\") == \"center\").height\n",
    "count_center = df.filter(\n",
    "    (pl.col(\"llama_original_bias\") == \"center\")\n",
    "    & (pl.col(\"llama_generated_bias\") == \"center\")\n",
    ").height\n",
    "print(\n",
    "    f\"how often does generated llama text bias match llama original bias for original value CENTER = \",\n",
    "    count_center / original_center,\n",
    ")\n",
    "\n",
    "# Count occurrences where both columns have the value \"left\"\n",
    "original_left = df.filter(pl.col(\"llama_original_bias\") == \"left\").height\n",
    "count_left = df.filter(\n",
    "    (pl.col(\"llama_original_bias\") == \"left\")\n",
    "    & (pl.col(\"llama_generated_bias\") == \"left\")\n",
    ").height\n",
    "print(\n",
    "    f\"how often does generated llama text bias match llama original bias for original value LEFT = \",\n",
    "    count_left / original_left,\n",
    ")\n",
    "\n",
    "# Count occurrences where both columns have the value \"right\"\n",
    "original_right = df.filter(pl.col(\"llama_original_bias\") == \"right\").height\n",
    "count_right = df.filter(\n",
    "    (pl.col(\"llama_original_bias\") == \"right\")\n",
    "    & (pl.col(\"llama_generated_bias\") == \"right\")\n",
    ").height\n",
    "print(\n",
    "    f\"how often does generated llama text bias match llama original bias for original value RIGHT = \",\n",
    "    count_right / original_right,\n",
    ")"
   ]
  },
  {
   "cell_type": "code",
   "execution_count": 80,
   "metadata": {},
   "outputs": [
    {
     "name": "stdout",
     "output_type": "stream",
     "text": [
      "shape: (2, 3)\n",
      "┌──────────────────┬───────┬────────────┐\n",
      "│ llama_same_topic ┆ count ┆ percentage │\n",
      "│ ---              ┆ ---   ┆ ---        │\n",
      "│ bool             ┆ u32   ┆ f64        │\n",
      "╞══════════════════╪═══════╪════════════╡\n",
      "│ true             ┆ 3532  ┆ 0.998586   │\n",
      "│ false            ┆ 5     ┆ 0.001414   │\n",
      "└──────────────────┴───────┴────────────┘\n"
     ]
    }
   ],
   "source": [
    "# are the topics the same? using llama\n",
    "# Compute value counts\n",
    "value_counts = (\n",
    "    df[\"llama_same_topic\"]\n",
    "    .value_counts()\n",
    "    .with_columns((pl.col(\"count\") / df.height).alias(\"percentage\"))\n",
    ")\n",
    "\n",
    "print(value_counts)"
   ]
  }
 ],
 "metadata": {
  "kernelspec": {
   "display_name": ".venv",
   "language": "python",
   "name": "python3"
  },
  "language_info": {
   "codemirror_mode": {
    "name": "ipython",
    "version": 3
   },
   "file_extension": ".py",
   "mimetype": "text/x-python",
   "name": "python",
   "nbconvert_exporter": "python",
   "pygments_lexer": "ipython3",
   "version": "3.10.8"
  }
 },
 "nbformat": 4,
 "nbformat_minor": 2
}
